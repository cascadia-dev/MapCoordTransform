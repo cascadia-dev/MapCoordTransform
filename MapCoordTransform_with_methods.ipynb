{
  "metadata": {
    "kernelspec": {
      "name": "python",
      "display_name": "Python (Pyodide)",
      "language": "python"
    },
    "language_info": {
      "codemirror_mode": {
        "name": "python",
        "version": 3
      },
      "file_extension": ".py",
      "mimetype": "text/x-python",
      "name": "python",
      "nbconvert_exporter": "python",
      "pygments_lexer": "ipython3",
      "version": "3.8"
    }
  },
  "nbformat_minor": 4,
  "nbformat": 4,
  "cells": [
    {
      "cell_type": "markdown",
      "source": "This instance is more \"proper\" Python code, using functions (also called [methods](https://en.wikipedia.org/wiki/Method_(computer_programming)) in object oriented programming) that accept parameters. You may not have seen this in BASIC before.\n\nWe are using \"markdown\" which is a language kind of like HTML you can use to create inline documentation in a notebook. The next line will be runnable Python. You use it to input your coordinates to transform.",
      "metadata": {}
    },
    {
      "cell_type": "code",
      "source": "my_x_coordinate = 123\nmy_y_coordinate = 456",
      "metadata": {
        "trusted": true
      },
      "outputs": [],
      "execution_count": 5
    },
    {
      "cell_type": "markdown",
      "source": "Markdown again. The next line will prepare some functions to to the map transform.",
      "metadata": {}
    },
    {
      "cell_type": "code",
      "source": "# transform a single coordinate\n# this is still a little hacky becuase there are constants embedded in the function\ndef get_transformed_coordinate(val):\n    return 128*(val-10000)\n\ndef get_transformed_coordinates(x,y):\n    return get_transformed_coordinate(x), get_transformed_coordinate(y)",
      "metadata": {
        "trusted": true
      },
      "outputs": [],
      "execution_count": 1
    },
    {
      "cell_type": "markdown",
      "source": "Final line of markdown. The next line will do the transformation and print results.\n\nNote that the printing is by default when Python executes a line that computes any value. You can also invoke print() explicitly which provides more formatting options.",
      "metadata": {}
    },
    {
      "cell_type": "code",
      "source": "get_transformed_coordinates(my_x_coordinate, my_y_coordinate)  ",
      "metadata": {
        "trusted": true
      },
      "outputs": [
        {
          "execution_count": 4,
          "output_type": "execute_result",
          "data": {
            "text/plain": "(-1264256, -1221632)"
          },
          "metadata": {}
        }
      ],
      "execution_count": 4
    },
    {
      "cell_type": "code",
      "source": "",
      "metadata": {
        "trusted": true
      },
      "outputs": [],
      "execution_count": null
    },
    {
      "cell_type": "code",
      "source": "",
      "metadata": {
        "trusted": true
      },
      "outputs": [],
      "execution_count": null
    }
  ]
}